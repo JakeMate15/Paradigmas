{
 "cells": [
  {
   "cell_type": "code",
   "execution_count": 3,
   "id": "c499023a-cbdf-4351-b029-e59f414294d0",
   "metadata": {},
   "outputs": [
    {
     "data": {
      "text/plain": [
       "#{\"Alice\" \"Kelly\" \"Bob\"}"
      ]
     },
     "execution_count": 3,
     "metadata": {},
     "output_type": "execute_result"
    }
   ],
   "source": [
    "(def players #{\"Alice\", \"Bob\", \"Kelly\"})\n",
    "players"
   ]
  },
  {
   "cell_type": "code",
   "execution_count": 4,
   "id": "696f7f30-f23f-417d-8092-5e701477991d",
   "metadata": {},
   "outputs": [
    {
     "data": {
      "text/plain": [
       "#{\"Alice\" \"Kelly\" \"Fred\" \"Bob\"}"
      ]
     },
     "execution_count": 4,
     "metadata": {},
     "output_type": "execute_result"
    }
   ],
   "source": [
    "(conj players \"Fred\")"
   ]
  },
  {
   "cell_type": "code",
   "execution_count": 5,
   "id": "85424a35-2445-4be8-ac8e-da38e1dfde98",
   "metadata": {},
   "outputs": [
    {
     "data": {
      "text/plain": [
       "#{\"Alice\" \"Kelly\"}"
      ]
     },
     "execution_count": 5,
     "metadata": {},
     "output_type": "execute_result"
    }
   ],
   "source": [
    "(disj players \"Bob\" \"Sal\")"
   ]
  },
  {
   "cell_type": "code",
   "execution_count": 6,
   "id": "ee76ac70-c57a-4562-aede-b1b8283aee42",
   "metadata": {},
   "outputs": [
    {
     "data": {
      "text/plain": [
       "true"
      ]
     },
     "execution_count": 6,
     "metadata": {},
     "output_type": "execute_result"
    }
   ],
   "source": [
    "(contains? players \"Kelly\")"
   ]
  },
  {
   "cell_type": "code",
   "execution_count": 7,
   "id": "6bd3fcc6-2f7b-4b7d-b1ee-e95fcb998c99",
   "metadata": {},
   "outputs": [
    {
     "data": {
      "text/plain": [
       "#{\"Alpha\" \"Bravo\" \"Charlie\" \"Sigma\"}"
      ]
     },
     "execution_count": 7,
     "metadata": {},
     "output_type": "execute_result"
    }
   ],
   "source": [
    "(conj (sorted-set) \"Bravo\" \"Charlie\" \"Sigma\" \"Alpha\")"
   ]
  },
  {
   "cell_type": "code",
   "execution_count": 8,
   "id": "f78c42a1-8041-4bcd-bff4-d4cc26f08d4a",
   "metadata": {},
   "outputs": [
    {
     "data": {
      "text/plain": [
       "#'user/players"
      ]
     },
     "execution_count": 8,
     "metadata": {},
     "output_type": "execute_result"
    }
   ],
   "source": [
    "(def players #{\"Alice\" \"Bob\" \"Kelly\"})"
   ]
  },
  {
   "cell_type": "code",
   "execution_count": 9,
   "id": "5bd933a9-7258-4cb9-a3e1-155b2bcf649d",
   "metadata": {},
   "outputs": [
    {
     "data": {
      "text/plain": [
       "#'user/new-players"
      ]
     },
     "execution_count": 9,
     "metadata": {},
     "output_type": "execute_result"
    }
   ],
   "source": [
    "(def new-players [\"Tim\" \"Sue\" \"Greg\"])"
   ]
  },
  {
   "cell_type": "code",
   "execution_count": 10,
   "id": "6169a3a7-1c5e-421b-b96f-f462410254f3",
   "metadata": {},
   "outputs": [
    {
     "data": {
      "text/plain": [
       "#{\"Alice\" \"Tim\" \"Kelly\" \"Sue\" \"Greg\" \"Bob\"}"
      ]
     },
     "execution_count": 10,
     "metadata": {},
     "output_type": "execute_result"
    }
   ],
   "source": [
    "(into players new-players)"
   ]
  },
  {
   "cell_type": "code",
   "execution_count": 12,
   "id": "39b0fbdd-0497-46de-958c-27f709acec85",
   "metadata": {},
   "outputs": [
    {
     "data": {
      "text/plain": [
       "{\"Fred\" 1400, \"Bob\" 1240, \"Angela\" 1024}"
      ]
     },
     "execution_count": 12,
     "metadata": {},
     "output_type": "execute_result"
    }
   ],
   "source": [
    "(def scores {\"Fred\" 1400\n",
    "            \"Bob\" 1240\n",
    "            \"Angela\" 1024})\n",
    "scores"
   ]
  },
  {
   "cell_type": "code",
   "execution_count": 13,
   "id": "5d9386e2-eaa2-4917-a718-49336747efc8",
   "metadata": {},
   "outputs": [
    {
     "data": {
      "text/plain": [
       "{\"Fred\" 1400, \"Bob\" 1240, \"Angela\" 1024}"
      ]
     },
     "execution_count": 13,
     "metadata": {},
     "output_type": "execute_result"
    }
   ],
   "source": [
    "(def scores {\"Fred\" 1400, \"Bob\" 1240, \"Angela\" 1024})\n",
    "scores"
   ]
  },
  {
   "cell_type": "code",
   "execution_count": 14,
   "id": "093cdda0-dc0c-4cdc-83a7-52788db2e8d8",
   "metadata": {},
   "outputs": [
    {
     "data": {
      "text/plain": [
       "{\"Fred\" 1400, \"Bob\" 1240, \"Angela\" 1024, \"Sally\" 0}"
      ]
     },
     "execution_count": 14,
     "metadata": {},
     "output_type": "execute_result"
    }
   ],
   "source": [
    "(assoc scores \"Sally\" 0)"
   ]
  },
  {
   "cell_type": "code",
   "execution_count": 15,
   "id": "dc972c5d-3e81-4e6d-8038-5027ad996d1f",
   "metadata": {},
   "outputs": [
    {
     "data": {
      "text/plain": [
       "{\"Fred\" 1400, \"Angela\" 1024}"
      ]
     },
     "execution_count": 15,
     "metadata": {},
     "output_type": "execute_result"
    }
   ],
   "source": [
    "(dissoc scores \"Bob\")"
   ]
  },
  {
   "cell_type": "code",
   "execution_count": 16,
   "id": "24c9e8f8-a606-45c7-9a7f-68e59f464f4f",
   "metadata": {},
   "outputs": [
    {
     "data": {
      "text/plain": [
       "1024"
      ]
     },
     "execution_count": 16,
     "metadata": {},
     "output_type": "execute_result"
    }
   ],
   "source": [
    "(get scores \"Angela\")"
   ]
  },
  {
   "cell_type": "code",
   "execution_count": 17,
   "id": "d4f3887b-1f92-4907-94d2-e2d1222bfc70",
   "metadata": {},
   "outputs": [
    {
     "data": {
      "text/plain": [
       "#'user/directions"
      ]
     },
     "execution_count": 17,
     "metadata": {},
     "output_type": "execute_result"
    }
   ],
   "source": [
    "(def directions {:north 0\n",
    "                :east 1\n",
    "                :south 2\n",
    "                :west 3})"
   ]
  },
  {
   "cell_type": "code",
   "execution_count": 18,
   "id": "cef624bc-fa2d-4e0f-a6ac-db81de765935",
   "metadata": {},
   "outputs": [
    {
     "data": {
      "text/plain": [
       "0"
      ]
     },
     "execution_count": 18,
     "metadata": {},
     "output_type": "execute_result"
    }
   ],
   "source": [
    "(directions :north)"
   ]
  },
  {
   "cell_type": "code",
   "execution_count": 20,
   "id": "21abf8ba-aee8-4445-a3a0-2db1544220d6",
   "metadata": {},
   "outputs": [
    {
     "name": "stderr",
     "output_type": "stream",
     "text": [
      "Syntax error compiling at (REPL:1:1).\n",
      "Unable to resolve symbol: bad-lookup-map in this context\n"
     ]
    },
    {
     "ename": "class clojure.lang.Compiler$CompilerException",
     "evalue": "",
     "execution_count": 20,
     "output_type": "error",
     "status": "error",
     "traceback": [
      "  Util.java:   221 clojure.lang.Util/runtimeException                     ",
      "   core.clj:  3214 clojure.core$eval/invokeStatic                         ",
      "   core.clj:  3210 clojure.core$eval/invoke                               ",
      "   main.clj:   437 clojure.main$repl$read_eval_print__9086$fn__9089/invoke",
      "   main.clj:   458 clojure.main$repl$fn__9095/invoke                      ",
      "   main.clj:   368 clojure.main$repl/doInvoke                             ",
      "RestFn.java:  1523 clojure.lang.RestFn/invoke                             ",
      "   AFn.java:    22 clojure.lang.AFn/run                                   ",
      "   AFn.java:    22 clojure.lang.AFn/run                                   ",
      "Thread.java:   745 java.lang.Thread/run                                   "
     ]
    }
   ],
   "source": [
    "(bad-lookup-map :foo)"
   ]
  },
  {
   "cell_type": "code",
   "execution_count": 21,
   "id": "35456451-e26b-4534-a644-5b9030cdf686",
   "metadata": {},
   "outputs": [
    {
     "data": {
      "text/plain": [
       "-1"
      ]
     },
     "execution_count": 21,
     "metadata": {},
     "output_type": "execute_result"
    }
   ],
   "source": [
    "(get scores \"Sam\" 0)\n",
    "(directions :northwest -1)"
   ]
  },
  {
   "cell_type": "code",
   "execution_count": 22,
   "id": "8fda66f7-6b84-4403-8ffb-81e4cf69334d",
   "metadata": {},
   "outputs": [
    {
     "data": {
      "text/plain": [
       "[\"Fred\" 1400]"
      ]
     },
     "execution_count": 22,
     "metadata": {},
     "output_type": "execute_result"
    }
   ],
   "source": [
    "(contains? scores \"Fred\")\n",
    "(find scores \"Fred\")"
   ]
  },
  {
   "cell_type": "code",
   "execution_count": 23,
   "id": "2df243d8-a91a-4ce7-848e-879e260e7fa4",
   "metadata": {},
   "outputs": [
    {
     "data": {
      "text/plain": [
       "(\"Fred\" \"Bob\" \"Angela\")"
      ]
     },
     "execution_count": 23,
     "metadata": {},
     "output_type": "execute_result"
    }
   ],
   "source": [
    "(keys scores)"
   ]
  },
  {
   "cell_type": "code",
   "execution_count": 24,
   "id": "a64111a5-8c00-4219-b5ea-29ee2c87e819",
   "metadata": {},
   "outputs": [
    {
     "data": {
      "text/plain": [
       "(1400 1240 1024)"
      ]
     },
     "execution_count": 24,
     "metadata": {},
     "output_type": "execute_result"
    }
   ],
   "source": [
    "(vals scores)"
   ]
  },
  {
   "cell_type": "code",
   "execution_count": 25,
   "id": "dd574e5a-db46-40e0-a5d2-6a785cfcded3",
   "metadata": {},
   "outputs": [
    {
     "data": {
      "text/plain": [
       "#'user/players"
      ]
     },
     "execution_count": 25,
     "metadata": {},
     "output_type": "execute_result"
    }
   ],
   "source": [
    "(def players #{\"Alice\" \"Bob\" \"Kelly\"})"
   ]
  },
  {
   "cell_type": "code",
   "execution_count": 26,
   "id": "05a48582-b648-4ecd-b06b-2393d5e25074",
   "metadata": {},
   "outputs": [
    {
     "data": {
      "text/plain": [
       "{\"Alice\" 0, \"Kelly\" 0, \"Bob\" 0}"
      ]
     },
     "execution_count": 26,
     "metadata": {},
     "output_type": "execute_result"
    }
   ],
   "source": [
    "(zipmap players (repeat 0))"
   ]
  },
  {
   "cell_type": "code",
   "execution_count": 27,
   "id": "a26e3c40-9538-46c1-9faa-5d0ccaf5ebc0",
   "metadata": {},
   "outputs": [
    {
     "data": {
      "text/plain": [
       "{\"Alice\" 0, \"Kelly\" 0, \"Bob\" 0}"
      ]
     },
     "execution_count": 27,
     "metadata": {},
     "output_type": "execute_result"
    }
   ],
   "source": [
    "(into {} (map (fn [player] [player 0]) players))"
   ]
  },
  {
   "cell_type": "code",
   "execution_count": 28,
   "id": "e2a8fb0e-471a-4895-9c5e-961ad27eb864",
   "metadata": {},
   "outputs": [
    {
     "data": {
      "text/plain": [
       "{\"Alice\" 0, \"Kelly\" 0, \"Bob\" 0}"
      ]
     },
     "execution_count": 28,
     "metadata": {},
     "output_type": "execute_result"
    }
   ],
   "source": [
    "(reduce (fn [m player]\n",
    "          (assoc m player 0))\n",
    "        {} ; initial value\n",
    "        players)\n"
   ]
  },
  {
   "cell_type": "code",
   "execution_count": 29,
   "id": "5b890925-6279-4a2f-b3c2-c1c9ce537b36",
   "metadata": {},
   "outputs": [
    {
     "data": {
      "text/plain": [
       "#'user/new-scores"
      ]
     },
     "execution_count": 29,
     "metadata": {},
     "output_type": "execute_result"
    }
   ],
   "source": [
    "(def new-scores {\"Angela\" 300 \"Jeff\" 900})"
   ]
  },
  {
   "cell_type": "code",
   "execution_count": 30,
   "id": "9f701248-b157-495f-ac5e-fef180a846b8",
   "metadata": {},
   "outputs": [
    {
     "data": {
      "text/plain": [
       "{\"Fred\" 1400, \"Bob\" 1240, \"Jeff\" 900, \"Angela\" 300}"
      ]
     },
     "execution_count": 30,
     "metadata": {},
     "output_type": "execute_result"
    }
   ],
   "source": [
    "(merge scores new-scores)\n",
    "{\"Fred\" 1400, \"Bob\" 1240, \"Jeff\" 900, \"Angela\" 300}"
   ]
  },
  {
   "cell_type": "code",
   "execution_count": 31,
   "id": "94152e69-56a8-4a7b-bfd2-6abbf5bd88aa",
   "metadata": {},
   "outputs": [
    {
     "data": {
      "text/plain": [
       "#'user/new-scores"
      ]
     },
     "execution_count": 31,
     "metadata": {},
     "output_type": "execute_result"
    }
   ],
   "source": [
    "(def new-scores {\"Fred\" 550 \"Angela\" 900 \"Sam\" 1000})"
   ]
  },
  {
   "cell_type": "code",
   "execution_count": 32,
   "id": "2963f3a7-48f2-415f-ab8f-9eeaa7be10bc",
   "metadata": {},
   "outputs": [
    {
     "data": {
      "text/plain": [
       "{\"Fred\" 1950, \"Bob\" 1240, \"Angela\" 1924, \"Sam\" 1000}"
      ]
     },
     "execution_count": 32,
     "metadata": {},
     "output_type": "execute_result"
    }
   ],
   "source": [
    "(merge-with + scores new-scores)"
   ]
  },
  {
   "cell_type": "code",
   "execution_count": 33,
   "id": "75b408da-fe53-4d9c-9fc7-e4c77a5dbe37",
   "metadata": {},
   "outputs": [
    {
     "data": {
      "text/plain": [
       "#'user/sm"
      ]
     },
     "execution_count": 33,
     "metadata": {},
     "output_type": "execute_result"
    }
   ],
   "source": [
    "(def sm (sorted-map\n",
    "         \"Bravo\" 204\n",
    "         \"Alfa\" 35\n",
    "         \"Sigma\" 99\n",
    "         \"Charlie\" 100))"
   ]
  },
  {
   "cell_type": "code",
   "execution_count": 34,
   "id": "db9e664e-dd95-47db-8c13-4f0236bbbfc7",
   "metadata": {},
   "outputs": [
    {
     "data": {
      "text/plain": [
       "#'user/person"
      ]
     },
     "execution_count": 34,
     "metadata": {},
     "output_type": "execute_result"
    }
   ],
   "source": [
    "(def person\n",
    "  {:first-name \"Kelly\"\n",
    "   :last-name \"Keen\"\n",
    "   :age 32\n",
    "   :occupation \"Programmer\"})"
   ]
  },
  {
   "cell_type": "code",
   "execution_count": 35,
   "id": "2da12067-3054-4ff4-9a78-ed65547dceb5",
   "metadata": {},
   "outputs": [
    {
     "data": {
      "text/plain": [
       "\"Programmer\""
      ]
     },
     "execution_count": 35,
     "metadata": {},
     "output_type": "execute_result"
    }
   ],
   "source": [
    "(get person :occupation)\n",
    "(person :occupation)"
   ]
  },
  {
   "cell_type": "code",
   "execution_count": 36,
   "id": "2fc7fb8f-23f4-40bf-bbd6-c8666d84abca",
   "metadata": {},
   "outputs": [
    {
     "data": {
      "text/plain": [
       "{:first-name \"Kelly\", :last-name \"Keen\", :age 32, :occupation \"Baker\"}"
      ]
     },
     "execution_count": 36,
     "metadata": {},
     "output_type": "execute_result"
    }
   ],
   "source": [
    "(assoc person :occupation \"Baker\")"
   ]
  },
  {
   "cell_type": "code",
   "execution_count": 37,
   "id": "9de7ec36-8a83-44ff-8480-cf1bbccf276f",
   "metadata": {},
   "outputs": [
    {
     "data": {
      "text/plain": [
       "{:first-name \"Kelly\", :last-name \"Keen\", :occupation \"Programmer\"}"
      ]
     },
     "execution_count": 37,
     "metadata": {},
     "output_type": "execute_result"
    }
   ],
   "source": [
    "(dissoc person :age)"
   ]
  },
  {
   "cell_type": "markdown",
   "id": "61f5cefc-c634-4f97-8a48-82c7b0f8dfb9",
   "metadata": {},
   "source": [
    "## Actividad"
   ]
  },
  {
   "cell_type": "code",
   "execution_count": 52,
   "id": "19371f96-a3ad-43a9-a9bb-44cccc890a7d",
   "metadata": {},
   "outputs": [
    {
     "data": {
      "text/plain": [
       "\"Juan\\nHernandez Perez\\n16\\nM\\n7215281299\\nJuanHernandez Perez@algo.com\\n\\nIvone\\nTorres Hernandez\\n14\\nF\\n7826726058\\nIvoneTorres Hernandez@algo.com\\n\\nErik\\nMorales Lopez\\n28\\nM\\n1154378520\\nErikMorales Lopez@algo.com\\n\\nLalo\\nLopez Morales\\n66\\nM\\n1654944537\\nLaloLopez Morales@algo.com\\n\\nFernanda\\nRamirez Ruiz\\n55\\nF\\n7906466572\\nFernandaRamirez Ruiz@algo.com\\n\""
      ]
     },
     "execution_count": 52,
     "metadata": {},
     "output_type": "execute_result"
    }
   ],
   "source": [
    "(slurp \"datos.txt\")"
   ]
  },
  {
   "cell_type": "code",
   "execution_count": 43,
   "id": "454e45f0-0d3f-4d2a-a74b-15978ac8a3e5",
   "metadata": {},
   "outputs": [
    {
     "name": "stdout",
     "output_type": "stream",
     "text": [
      "Line to be written\n"
     ]
    },
    {
     "data": {
      "text/plain": [
       "nil"
      ]
     },
     "execution_count": 43,
     "metadata": {},
     "output_type": "execute_result"
    }
   ],
   "source": [
    "(use 'clojure.java.io)\n",
    "(with-open [rdr (reader \"test.txt\")]\n",
    "  (doseq [line (line-seq rdr)]\n",
    "    (println line)))"
   ]
  },
  {
   "cell_type": "code",
   "execution_count": 45,
   "id": "a7c1d4e8-45fa-4186-8247-de0de017ce72",
   "metadata": {},
   "outputs": [
    {
     "data": {
      "text/plain": [
       "nil"
      ]
     },
     "execution_count": 45,
     "metadata": {},
     "output_type": "execute_result"
    }
   ],
   "source": [
    "(use 'clojure.java.io)\n",
    "(with-open [wrtr (writer \"test.txt\")]\n",
    "  (.write wrtr \"No se\"))\n"
   ]
  },
  {
   "cell_type": "code",
   "execution_count": null,
   "id": "313a9801-1c82-442f-b2e2-59cb1356d1cc",
   "metadata": {},
   "outputs": [],
   "source": [
    "(def person\n",
    "  {:first-name \"Kelly\"\n",
    "   :last-name \"Keen\"\n",
    "   :age 32\n",
    "   :occupation \"Programmer\"})"
   ]
  },
  {
   "cell_type": "code",
   "execution_count": 48,
   "id": "66c87ecf-436a-4940-b3d6-e0a1aa7a1460",
   "metadata": {},
   "outputs": [
    {
     "data": {
      "text/plain": [
       "{:nombre \"Erik\", :apellidos \"Morales Lopez\", :edad 19, :sexo \"M\", :telefono 556852585, :correo \"erik.m@\"}"
      ]
     },
     "execution_count": 48,
     "metadata": {},
     "output_type": "execute_result"
    }
   ],
   "source": [
    "(def persona\n",
    "    {:nombre \"Erik\"\n",
    "     :apellidos \"Morales Lopez\"\n",
    "     :edad 19\n",
    "     :sexo \"M\"\n",
    "     :telefono 556852585\n",
    "     :correo \"erik.m@\"\n",
    "    }\n",
    ")\n",
    "persona"
   ]
  },
  {
   "cell_type": "code",
   "execution_count": 51,
   "id": "0cef28cc-52a5-485c-b114-c5faace9f13b",
   "metadata": {},
   "outputs": [
    {
     "data": {
      "text/plain": [
       "nil"
      ]
     },
     "execution_count": 51,
     "metadata": {},
     "output_type": "execute_result"
    }
   ],
   "source": [
    "(def palabra \"no dsf se\")\n",
    "\n",
    "(use 'clojure.java.io)\n",
    "(with-open [wrtr (writer \"test.txt\")]\n",
    "  (.write wrtr palabra))"
   ]
  },
  {
   "cell_type": "code",
   "execution_count": null,
   "id": "2efb3e34-efd9-464a-89c2-a24d6a5ca547",
   "metadata": {},
   "outputs": [],
   "source": []
  }
 ],
 "metadata": {
  "kernelspec": {
   "display_name": "Clojure (clojupyter=0.2.3-SNAPSHOT)",
   "language": "clojure",
   "name": "conda-clojupyter"
  },
  "language_info": {
   "file_extension": ".clj",
   "mimetype": "text/x-clojure",
   "name": "clojure",
   "version": "1.10.1"
  }
 },
 "nbformat": 4,
 "nbformat_minor": 5
}
