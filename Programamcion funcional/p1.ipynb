{
 "cells": [
  {
   "cell_type": "markdown",
   "metadata": {},
   "source": [
    "# Lista de Ejercicios para paradigma Funcional (Clojure)\n",
    "\n",
    "## Paradigmas de programación.\n",
    "\n",
    "29 de agosto de 2022.\n",
    "\n",
    "- Nombre del estudiante: \n",
    "- Número de boleta: \n",
    "\n",
    "**Instrucciones:** Lee cada uno de los ejercicios y realice su solución mediante código Clojure. Deberá realizar las pruebas solicitadas."
   ]
  },
  {
   "cell_type": "code",
   "execution_count": 1,
   "metadata": {},
   "outputs": [
    {
     "data": {
      "text/plain": [
       "nil"
      ]
     },
     "execution_count": 1,
     "metadata": {},
     "output_type": "execute_result"
    }
   ],
   "source": [
    "(require '[clojure.test :refer [is]])\n",
    "(require '[cemerick.pomegranate :refer [add-dependencies]])\n",
    "(add-dependencies :coordinates '[[org.clojure/math.numeric-tower \"0.0.4\"]])\n",
    "(require '[clojure.math.numeric-tower :refer [sqrt expt]])"
   ]
  },
  {
   "cell_type": "markdown",
   "metadata": {},
   "source": [
    "---\n",
    "## Problema 1\n",
    "\n",
    "Implementar una función para calcular el numero de bytes dado un valor. \n",
    "La función recibe 2 parámetros [numero unidad].\n",
    "Ejemplos:\n",
    " 5 KB (cinco kilobytes), 6 MB (6 megabytes), 100 GB (cien gigabytes)\n",
    "\n",
    "Nota. Recordar que:\n",
    "\n",
    "- 1 KB (kibibyte) = $2^{10}$ bytes = 1,024 bytes\n",
    "- 1 MB (mebibyte) = $2^{20}$ bytes = 1,024 kibibytes\n",
    "- 1 GB (gibibyte) = $2^{30}$ bytes = 1,024 mebibytes\n",
    "\n",
    "(defn bytes [numero unidad]\n",
    "  ;; codigo a implementar\n",
    ")"
   ]
  },
  {
   "cell_type": "code",
   "execution_count": 2,
   "metadata": {},
   "outputs": [
    {
     "name": "stderr",
     "output_type": "stream",
     "text": [
      "WARNING: bytes already refers to: #'clojure.core/bytes in namespace: user, being replaced by: #'user/bytes\n"
     ]
    },
    {
     "data": {
      "text/plain": [
       "#'user/bytes"
      ]
     },
     "execution_count": 2,
     "metadata": {},
     "output_type": "execute_result"
    }
   ],
   "source": [
    "(defn bytes[numero unidad]\n",
    "    (cond\n",
    "        (= unidad \"KB\") (def res (* (expt 2 10) numero))\n",
    "        (= unidad \"MB\") (def res (* (expt 2 20) numero))\n",
    "        :else (def res (* (expt 2 30) numero))\n",
    "     )\n",
    "    (println res \"bytes\")\n",
    ")"
   ]
  },
  {
   "cell_type": "code",
   "execution_count": 3,
   "metadata": {},
   "outputs": [
    {
     "name": "stdout",
     "output_type": "stream",
     "text": [
      "5120 bytes\n",
      "6291456 bytes\n",
      "107374182400 bytes\n"
     ]
    },
    {
     "data": {
      "text/plain": [
       "nil"
      ]
     },
     "execution_count": 3,
     "metadata": {},
     "output_type": "execute_result"
    }
   ],
   "source": [
    ";; Pruebas:\n",
    "(bytes 5 \"KB\")\n",
    "(bytes 6 \"MB\")\n",
    "(bytes 100 \"GB\")"
   ]
  },
  {
   "cell_type": "markdown",
   "metadata": {},
   "source": [
    "---\n",
    "## Problema 2\n",
    "\n",
    "Implementar una función llamada FahrenheitCelsius que convierta un valor de temperatura de grados Fahrenheit a Celsius como sigue:\n",
    "\n",
    "**TIP:** Si $F$ es la temperatura en grados Fahrenheit, obtener  $C$ degrees Celsius usando la siguiente formula: \n",
    "\n",
    "$$\n",
    "C = \\frac{5 (F - 32)}{9}\n",
    "$$"
   ]
  },
  {
   "cell_type": "code",
   "execution_count": 4,
   "metadata": {},
   "outputs": [
    {
     "data": {
      "text/plain": [
       "#'user/fahrenheitCelsius"
      ]
     },
     "execution_count": 4,
     "metadata": {},
     "output_type": "execute_result"
    }
   ],
   "source": [
    "(defn fahrenheitCelsius [f]\n",
    "    (def c (/ (* 5 (- f 32)) 9 ))\n",
    "    (println c)\n",
    ")"
   ]
  },
  {
   "cell_type": "code",
   "execution_count": 5,
   "metadata": {},
   "outputs": [
    {
     "name": "stdout",
     "output_type": "stream",
     "text": [
      "37.77777777777778\n",
      "-17.77777777777778\n",
      "-40.0\n"
     ]
    },
    {
     "data": {
      "text/plain": [
       "nil"
      ]
     },
     "execution_count": 5,
     "metadata": {},
     "output_type": "execute_result"
    }
   ],
   "source": [
    ";; Pruebas\n",
    "(fahrenheitCelsius 100.0)\n",
    "(fahrenheitCelsius 0.0)\n",
    "(fahrenheitCelsius -40.0)"
   ]
  },
  {
   "cell_type": "markdown",
   "metadata": {},
   "source": [
    "---\n",
    "## Problema 3\n",
    "\n",
    "Implementar una función llamada signo que reciba un valor entero $n$. La función regresa $-1$ si $n$ es negativo, 1 si $n$ es positivo y 0 si el valor es cero. "
   ]
  },
  {
   "cell_type": "code",
   "execution_count": 6,
   "metadata": {},
   "outputs": [
    {
     "data": {
      "text/plain": [
       "#'user/signo"
      ]
     },
     "execution_count": 6,
     "metadata": {},
     "output_type": "execute_result"
    }
   ],
   "source": [
    "(defn signo [n]\n",
    "    (if (> n 0) 1 (if(= n 0) 0 -1))\n",
    ")"
   ]
  },
  {
   "cell_type": "code",
   "execution_count": 12,
   "metadata": {},
   "outputs": [
    {
     "name": "stdout",
     "output_type": "stream",
     "text": [
      "-1\n",
      "1\n",
      "0\n",
      "1\n"
     ]
    },
    {
     "data": {
      "text/plain": [
       "nil"
      ]
     },
     "execution_count": 12,
     "metadata": {},
     "output_type": "execute_result"
    }
   ],
   "source": [
    ";; Pruebas:\n",
    "(println (signo -5.0))\n",
    "(println (signo 10.0))\n",
    "(println (signo 0))\n",
    "(println (signo 1))"
   ]
  },
  {
   "cell_type": "markdown",
   "metadata": {},
   "source": [
    "---\n",
    "## Problema 4\n",
    "\n",
    "Implementar una funcion llamada raices que regrese un vector que contenga las soluciones a una ecuación de segundo grado. Los datos de entrada serám  3 coeficientes ($a$, $b$, $c$) y se implementara la formula general:\n",
    "\n",
    "$$\n",
    "x=\\frac{-b\\pm \\sqrt{b^2-4ac}}{2a}\n",
    "$$\n",
    "\n",
    "**TIP:** Recuerde que se deben agregar las dependencia al método que calcula la raíz (`sqrt`) definida en el espacio de nombre `clojure.math). Esta dependencia se encuentra en la primer celda de este notebook."
   ]
  },
  {
   "cell_type": "code",
   "execution_count": 8,
   "metadata": {},
   "outputs": [
    {
     "data": {
      "text/plain": [
       "#'user/raices"
      ]
     },
     "execution_count": 8,
     "metadata": {},
     "output_type": "execute_result"
    }
   ],
   "source": [
    "(defn raices [a b c]\n",
    "    (def x1 (/ (+ (* b -1) (sqrt(- (expt b 2) (* 4 a c)))) (* 2 a) ))\n",
    "    (def x2 (/ (- (* b -1) (sqrt(- (expt b 2) (* 4 a c)))) (* 2 a) ))\n",
    "    \n",
    "    (println x1 x2)\n",
    ")"
   ]
  },
  {
   "cell_type": "code",
   "execution_count": 9,
   "metadata": {},
   "outputs": [
    {
     "name": "stdout",
     "output_type": "stream",
     "text": [
      "-1 -1\n",
      "0 0\n",
      "-1/4 -1\n"
     ]
    },
    {
     "data": {
      "text/plain": [
       "nil"
      ]
     },
     "execution_count": 9,
     "metadata": {},
     "output_type": "execute_result"
    }
   ],
   "source": [
    ";; Pruebas:\n",
    "(raices 2 4 2) ;; resultado -1 -1\n",
    "(raices 1 0 0) ;; resultado  0 0\n",
    "(raices 4 5 1) ;; resultado -1/4 -1"
   ]
  },
  {
   "cell_type": "markdown",
   "metadata": {},
   "source": [
    "---\n",
    "## Problema 5\n",
    "\n",
    "El $\\textit{IMC}$ (indice de masa de corporal) es utilizado para determinar si la proporción de peso y altura de una persona es el adecuado. El IMC se puede calcular como  sigue:\n",
    "\n",
    "$$\n",
    "\\textit{IMC} = \\frac{\\textit{peso}}{\\textit{altura}^2}\n",
    "$$\n",
    "\n",
    "Donde $\\textit{peso}$ se presenta en kilogramas y  $\\textit{altura}$ en metros. La siguiente tabla muestra como se clasifica el IMC de acuerdo a esta proporción como sigue: \n",
    "\n",
    "|rango IMC    |Descripción         |\n",
    "|:-----------:|:---------:         |\n",
    "|IMC < 20     |bajo de peso        |\n",
    "|20 ≤ IMC < 25|normal              |\n",
    "|25 ≤ IMC < 30|obesidad tipo 1     |\n",
    "|30 ≤ IMC < 40|obesidad tipo 2     | \n",
    "|40 ≤ IMC     |obesidad tipo 3     |\n",
    "\n",
    "Implementa una función llamada `imc` que reciba dos argumentos: $\\textit{peso}$ y $\\textit{altura}$. Y regrese un símbolo para representar la descripción de IMC correspondiente a los argumentos de entrada."
   ]
  },
  {
   "cell_type": "code",
   "execution_count": 10,
   "metadata": {},
   "outputs": [
    {
     "data": {
      "text/plain": [
       "#'user/imc"
      ]
     },
     "execution_count": 10,
     "metadata": {},
     "output_type": "execute_result"
    }
   ],
   "source": [
    "(defn imc [peso altura]\n",
    "    (def im (/ peso (expt altura 2)))\n",
    "    \n",
    "    (cond\n",
    "        (< im 20) (println \"bajo de peso\")\n",
    "        (< im 25) (println \"normal\")\n",
    "        (< im 30) (println \"obesidad tipo 1\")\n",
    "        (< im 40) (println \"obesidad tipo 2\")\n",
    "        :else (println \"obesidad tipo 3\")\n",
    "    )\n",
    "\n",
    ")"
   ]
  },
  {
   "cell_type": "code",
   "execution_count": 11,
   "metadata": {},
   "outputs": [
    {
     "name": "stdout",
     "output_type": "stream",
     "text": [
      "bajo de peso\n",
      "normal\n",
      "obesidad tipo 1\n",
      "obesidad tipo 2\n",
      "obesidad tipo 3\n"
     ]
    },
    {
     "data": {
      "text/plain": [
       "nil"
      ]
     },
     "execution_count": 11,
     "metadata": {},
     "output_type": "execute_result"
    }
   ],
   "source": [
    ";; Pruebas\n",
    "(imc 45 1.7) ;; bajo de peso\n",
    "(imc 55 1.5) ;; normal\n",
    "(imc 76 1.7) ;; obeso T1\n",
    "(imc 81 1.6) ;; obeso T2\n",
    "(imc 120 1.6) ;; obeso T3"
   ]
  }
 ],
 "metadata": {
  "kernelspec": {
   "display_name": "Clojure (clojupyter=0.2.3-SNAPSHOT)",
   "language": "clojure",
   "name": "conda-clojupyter"
  },
  "language_info": {
   "file_extension": ".clj",
   "mimetype": "text/x-clojure",
   "name": "clojure",
   "version": "1.10.1"
  }
 },
 "nbformat": 4,
 "nbformat_minor": 4
}
