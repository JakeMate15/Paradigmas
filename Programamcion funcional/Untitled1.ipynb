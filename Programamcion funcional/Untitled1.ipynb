{
 "cells": [
  {
   "cell_type": "code",
   "execution_count": 1,
   "id": "572b6277-9b29-485b-bba3-cc752343cc69",
   "metadata": {},
   "outputs": [
    {
     "data": {
      "text/plain": [
       "#'user/for-loop"
      ]
     },
     "execution_count": 1,
     "metadata": {},
     "output_type": "execute_result"
    }
   ],
   "source": [
    "(defmacro for-loop [[sym init check change :as params] & steps]\n",
    " `(loop [~sym ~init value# nil]\n",
    "    (if ~check\n",
    "      (let [new-value# (do ~@steps)]\n",
    "        (recur ~change new-value#))\n",
    "      value#)))"
   ]
  },
  {
   "cell_type": "code",
   "execution_count": 34,
   "id": "64f34788-ca72-4f38-91b6-2e51ac561489",
   "metadata": {},
   "outputs": [
    {
     "data": {
      "text/plain": [
       "#'user/fib"
      ]
     },
     "execution_count": 34,
     "metadata": {},
     "output_type": "execute_result"
    }
   ],
   "source": [
    "(defn fib [n]\n",
    "    (def f [0 1])\n",
    "    \n",
    "    (for-loop [i 2 (< i n) (inc i)] \n",
    "        (def f(conj f (+ (- i 2) (- i 1))))\n",
    "    )\n",
    "    \n",
    ")"
   ]
  },
  {
   "cell_type": "code",
   "execution_count": 33,
   "id": "58002dc9-5973-4af1-9fcc-c6e7a2475658",
   "metadata": {},
   "outputs": [
    {
     "name": "stdout",
     "output_type": "stream",
     "text": [
      "[0 1 1 3 5]\n"
     ]
    },
    {
     "data": {
      "text/plain": [
       "nil"
      ]
     },
     "execution_count": 35,
     "metadata": {},
     "output_type": "execute_result"
    }
   ],
   "source": [
    "(fib 5)\n"
   ]
  },
  {
   "cell_type": "code",
   "execution_count": 61,
   "id": "a4c520d3-8b07-41c1-b3b5-f53ee71ab8e0",
   "metadata": {},
   "outputs": [
    {
     "data": {
      "text/plain": [
       "#'user/fib"
      ]
     },
     "execution_count": 61,
     "metadata": {},
     "output_type": "execute_result"
    }
   ],
   "source": [
    "(defn fib [n]\n",
    "    (def f [0 1])\n",
    "    (def res 0)\n",
    "    \n",
    "    (for-loop [i 2 (< i n) (inc i)] \n",
    "        (= res (+ (f (- i 2)) (f(- i 1)) ) )\n",
    "    )\n",
    "    \n",
    ")"
   ]
  },
  {
   "cell_type": "code",
   "execution_count": 62,
   "id": "4d381fc6-218f-4dd9-b6ec-6ed25a00106f",
   "metadata": {},
   "outputs": [
    {
     "data": {
      "text/plain": [
       "false"
      ]
     },
     "execution_count": 62,
     "metadata": {},
     "output_type": "execute_result"
    }
   ],
   "source": [
    "(fib 3)"
   ]
  },
  {
   "cell_type": "code",
   "execution_count": null,
   "id": "9e66f90a-8dda-41c4-a661-9a1bbbd2230e",
   "metadata": {},
   "outputs": [],
   "source": []
  }
 ],
 "metadata": {
  "kernelspec": {
   "display_name": "Clojure (clojupyter=0.2.3-SNAPSHOT)",
   "language": "clojure",
   "name": "conda-clojupyter"
  },
  "language_info": {
   "file_extension": ".clj",
   "mimetype": "text/x-clojure",
   "name": "clojure",
   "version": "1.10.1"
  }
 },
 "nbformat": 4,
 "nbformat_minor": 5
}
