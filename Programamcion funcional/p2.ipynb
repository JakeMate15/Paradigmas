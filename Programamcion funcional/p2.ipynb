{
 "cells": [
  {
   "cell_type": "markdown",
   "metadata": {},
   "source": [
    "# Practica 2. Paradigma funcional\n",
    "1 de Septiembre de 2022\n",
    "## Paradigmas de programación. \n",
    "\n",
    "- Nombre del estudiante: \n",
    "- Número de boleta: \n",
    "\n",
    "**Instrucciones:** Lee cada uno de los ejercicios y realice su solución mediante código Clojure. Deberá realizar las pruebas solicitadas."
   ]
  },
  {
   "cell_type": "markdown",
   "metadata": {},
   "source": [
    "Ejemplos"
   ]
  },
  {
   "cell_type": "code",
   "execution_count": 1,
   "metadata": {},
   "outputs": [
    {
     "name": "stdout",
     "output_type": "stream",
     "text": [
      "10\n",
      "9\n",
      "8\n",
      "7\n",
      "6\n",
      "5\n",
      "4\n",
      "3\n",
      "2\n",
      "1\n",
      "\"finished\"\n"
     ]
    },
    {
     "data": {
      "text/plain": [
       "nil"
      ]
     },
     "execution_count": 1,
     "metadata": {},
     "output_type": "execute_result"
    }
   ],
   "source": [
    "(loop [i 10]\n",
    "(if (= i 0)\n",
    "(prn \"finished\")\n",
    "(recur (do (prn i) (dec i)))))"
   ]
  },
  {
   "cell_type": "code",
   "execution_count": 2,
   "metadata": {},
   "outputs": [
    {
     "name": "stdout",
     "output_type": "stream",
     "text": [
      "0\n",
      "1\n",
      "2\n",
      "3\n",
      "4\n",
      "5\n",
      "6\n",
      "7\n",
      "8\n",
      "9\n",
      "\"finished\"\n"
     ]
    },
    {
     "data": {
      "text/plain": [
       "nil"
      ]
     },
     "execution_count": 2,
     "metadata": {},
     "output_type": "execute_result"
    }
   ],
   "source": [
    "(defn count-down [x]\n",
    "(if (= x 10)\n",
    "  (prn \"finished\")\n",
    "  (count-down (do (prn x) (inc x)))))\n",
    "\n",
    "(count-down 0)"
   ]
  },
  {
   "cell_type": "code",
   "execution_count": 3,
   "metadata": {},
   "outputs": [
    {
     "data": {
      "text/plain": [
       "120"
      ]
     },
     "execution_count": 3,
     "metadata": {},
     "output_type": "execute_result"
    }
   ],
   "source": [
    "(defn fact[x]\n",
    "  (if (<= x 1)\n",
    "   1 \n",
    "  (* x  (fact (- x 1))  )))\n",
    "\n",
    "(fact 5)\n"
   ]
  },
  {
   "cell_type": "markdown",
   "metadata": {},
   "source": [
    "## Dependencias y recursos usados en la practica"
   ]
  },
  {
   "cell_type": "code",
   "execution_count": 1,
   "metadata": {},
   "outputs": [
    {
     "data": {
      "text/plain": [
       "nil"
      ]
     },
     "execution_count": 1,
     "metadata": {},
     "output_type": "execute_result"
    }
   ],
   "source": [
    ";; Funciones externas requeridas en este notebook.\n",
    "(require '[clojure.test :refer [is]])"
   ]
  },
  {
   "cell_type": "code",
   "execution_count": 2,
   "metadata": {},
   "outputs": [
    {
     "data": {
      "text/plain": [
       "#'user/for-loop"
      ]
     },
     "execution_count": 2,
     "metadata": {},
     "output_type": "execute_result"
    }
   ],
   "source": [
    ";;; Cremos una macro para implementar un ciclo for\n",
    "(defmacro for-loop [[sym init check change :as params] & steps]\n",
    " `(loop [~sym ~init value# nil]\n",
    "    (if ~check\n",
    "      (let [new-value# (do ~@steps)]\n",
    "        (recur ~change new-value#))\n",
    "      value#)))"
   ]
  },
  {
   "cell_type": "markdown",
   "metadata": {},
   "source": [
    "---\n",
    "\n",
    "## Problema 1\n",
    "\n",
    "Implementar una función recursiva e iterativa `fib` para calcular la serie de Fibonacci.\n",
    "Considere como entrada un valor entero `n` y regresa el elemento correspondiente a la secuencia de Fibonacci, la cual se define matemáticamente como: \n",
    "\n",
    "$$\n",
    "\\text{fib}(n)=\\begin{cases}\n",
    "n & \\text{ if } n \\le 1 \\\\\n",
    "\\text{fib}(n-1) + \\text{fib}(n-2) & \\text{ if } n>1\n",
    "\\end{cases}\n",
    "$$"
   ]
  },
  {
   "cell_type": "markdown",
   "metadata": {},
   "source": [
    "### Calculo de fibonacci de forma iterativa\n",
    "\n",
    "- Definimos un vector con los dos primeros terminos de fib\n",
    "\n",
    "- Para recorrer el vector usamos un for desde 2 (porque ya definimos los dos primeros rerminos) hasta n+1 porque se considera fib(0)\n",
    "\n",
    "- En cada iteración sumamos el termino n-1 con n-2 y lo guardamos en la última pos del vector con la funcion conj\n",
    "\n",
    "- Finalmente regresamos el valor de la ultima posición del vector "
   ]
  },
  {
   "cell_type": "code",
   "execution_count": 3,
   "metadata": {},
   "outputs": [
    {
     "data": {
      "text/plain": [
       "#'user/fib"
      ]
     },
     "execution_count": 3,
     "metadata": {},
     "output_type": "execute_result"
    }
   ],
   "source": [
    "(defn fib [n]\n",
    "    (def f [0 1])\n",
    "    \n",
    "    (for-loop [i 2 (< i (+ n 1)) (inc i)] \n",
    "        (def sum (+ (f (- i 1)) (f (- i 2))))\n",
    "        (def f (conj f sum))\n",
    "    )\n",
    "    \n",
    "    (if (= n 0)\n",
    "        0\n",
    "        (last f)\n",
    "    )\n",
    ")"
   ]
  },
  {
   "cell_type": "code",
   "execution_count": 4,
   "metadata": {},
   "outputs": [
    {
     "name": "stdout",
     "output_type": "stream",
     "text": [
      "true\n",
      "true\n",
      "true\n",
      "true\n",
      "true\n",
      "true\n"
     ]
    },
    {
     "data": {
      "text/plain": [
       "nil"
      ]
     },
     "execution_count": 4,
     "metadata": {},
     "output_type": "execute_result"
    }
   ],
   "source": [
    "(println (is (= 0 (fib 0))))\n",
    "\n",
    "(println (is (= 1 (fib 1))))\n",
    "\n",
    "(println (is (= 1 (fib 2))))\n",
    "\n",
    "(println (is (= 5 (fib 5))))\n",
    "\n",
    "(println (is (= '(0 1 1 2 3 5 8 13 21 34 55 89 144 233 377 610 987 1597 2584 4181 6765) (map fib (range 21)))))\n",
    "\n",
    "(println (is (= 267914296 (fib 42))))"
   ]
  },
  {
   "cell_type": "markdown",
   "metadata": {},
   "source": [
    "### Fibonacci de forma recursiva"
   ]
  },
  {
   "cell_type": "code",
   "execution_count": 5,
   "metadata": {},
   "outputs": [
    {
     "data": {
      "text/plain": [
       "#'user/fibRecursiva"
      ]
     },
     "execution_count": 5,
     "metadata": {},
     "output_type": "execute_result"
    }
   ],
   "source": [
    ";;; Fibonacci de forma recursiva\n",
    "(defn fibRecursiva [n] \n",
    "    (if (< n 2)\n",
    "        n\n",
    "        (+ (fibRecursiva (- n 1)) (fibRecursiva (- n 2)))\n",
    "    )\n",
    ")"
   ]
  },
  {
   "cell_type": "code",
   "execution_count": 6,
   "metadata": {},
   "outputs": [
    {
     "name": "stdout",
     "output_type": "stream",
     "text": [
      "true\n",
      "true\n",
      "true\n",
      "true\n",
      "true\n",
      "true\n"
     ]
    },
    {
     "data": {
      "text/plain": [
       "nil"
      ]
     },
     "execution_count": 6,
     "metadata": {},
     "output_type": "execute_result"
    }
   ],
   "source": [
    "(println (is (= 0 (fibRecursiva 0))))\n",
    "\n",
    "(println (is (= 1 (fibRecursiva 1))))\n",
    "\n",
    "(println (is (= 1 (fibRecursiva 2))))\n",
    "\n",
    "(println (is (= 5 (fibRecursiva 5))))\n",
    "\n",
    "(println (is (= '(0 1 1 2 3 5 8 13 21 34 55 89 144 233 377 610 987 1597 2584 4181 6765) (map fibRecursiva (range 21)))))\n",
    "\n",
    "(println (is (= 267914296 (fib 42))))"
   ]
  },
  {
   "cell_type": "markdown",
   "metadata": {},
   "source": [
    "---\n",
    "\n",
    "## Problema 2\n",
    "La función `invertirPares` recibe como argumento una secuencia de vectores que contiene dos elementos cada uno, Y regresa una nueva lista con los vectores invertidos."
   ]
  },
  {
   "cell_type": "markdown",
   "metadata": {},
   "source": [
    "### Solución\n",
    "- Creamos una función que intercambia dos elementos en un vector v dadas las posiciones de esos elementos con ayuda de la función assoc\n",
    "\n",
    "- `assoc` nos devuelve un vector con un valor deseado en el indice indicado\n",
    "\n",
    "- Con un ciclo for que ya definimos recorremos la lista y en cada pos intercambiamos los elementos del vecotr"
   ]
  },
  {
   "cell_type": "code",
   "execution_count": 7,
   "metadata": {},
   "outputs": [
    {
     "data": {
      "text/plain": [
       "#'user/invertirPares"
      ]
     },
     "execution_count": 7,
     "metadata": {},
     "output_type": "execute_result"
    }
   ],
   "source": [
    "(defn intercambia[v e1 e2] \n",
    "   (assoc v e2 (v e1) e1 (v e2))\n",
    ")\n",
    "\n",
    "\n",
    "(defn invertirPares [s]\n",
    "    (def n (count s))\n",
    "    (def res '())\n",
    "    \n",
    "    (for-loop [i 0 (< i n) (inc i)] \n",
    "        (def aux (intercambia (nth s i) 1 0))\n",
    "        (def res (concat res [aux]))\n",
    "    )\n",
    "    res\n",
    ")"
   ]
  },
  {
   "cell_type": "code",
   "execution_count": 8,
   "metadata": {},
   "outputs": [
    {
     "name": "stdout",
     "output_type": "stream",
     "text": [
      "true\n",
      "true\n"
     ]
    },
    {
     "data": {
      "text/plain": [
       "nil"
      ]
     },
     "execution_count": 8,
     "metadata": {},
     "output_type": "execute_result"
    }
   ],
   "source": [
    ";;; Pruebas \n",
    "(println (is (= '([1 a][2 a][1 b][2 b])\n",
    "       (invertirPares '([a 1][a 2][b 1][b 2])))))\n",
    "(println(is (= '([1 Enero][2 Febrero][3 Marzo])\n",
    "       (invertirPares '([Enero 1][Febrero 2][Marzo 3])))))"
   ]
  },
  {
   "cell_type": "markdown",
   "metadata": {},
   "source": [
    "---\n",
    "\n",
    "## Problema 3\n",
    "\n",
    "La función `binario` recibe como dato de entrada un entero positivo `n`. Si `n` es igual a cero, regresa una lista vacia. Si `n` es mayor que cero, regresa una secuencia de 1's y 0's que representan el valor binario de `n`. "
   ]
  },
  {
   "cell_type": "markdown",
   "metadata": {},
   "source": [
    "### Solución\n",
    "- La función quot devuelve la división entera de dos valores\n",
    "- En cada iteracion del for obtenemos la div entera por 2 y almacenamos el modulo de esa división en la lista"
   ]
  },
  {
   "cell_type": "code",
   "execution_count": 9,
   "metadata": {},
   "outputs": [
    {
     "data": {
      "text/plain": [
       "#'user/binario"
      ]
     },
     "execution_count": 9,
     "metadata": {},
     "output_type": "execute_result"
    }
   ],
   "source": [
    "(defn binario [n]\n",
    "    (def res '())\n",
    "    \n",
    "    (for-loop [i n (> i 0) (quot i 2)] \n",
    "        (def res(conj res (mod i 2)))\n",
    "    )\n",
    "    \n",
    "    res\n",
    ")\n"
   ]
  },
  {
   "cell_type": "code",
   "execution_count": 10,
   "metadata": {},
   "outputs": [
    {
     "name": "stdout",
     "output_type": "stream",
     "text": [
      "true\n",
      "true\n",
      "true\n",
      "true\n"
     ]
    },
    {
     "data": {
      "text/plain": [
       "nil"
      ]
     },
     "execution_count": 10,
     "metadata": {},
     "output_type": "execute_result"
    }
   ],
   "source": [
    ";;; Pruebas \n",
    "(println (is (= () (binario 0))))\n",
    "(println (is (= '(1 1 1 1 0) (binario 30))))\n",
    "(println (is (= '(1 0 0 0 0 0 0 0 0 0 0) (binario 1024))))\n",
    "(println (is (= '(1 0 1 1 0 0 0 0 0 1 0 0 0 0 1 1) (binario 45123))))"
   ]
  },
  {
   "cell_type": "markdown",
   "metadata": {},
   "source": [
    "---\n",
    "\n",
    "## Problema 4\n",
    "\n",
    "La función `productoPunto` recibe dos argumentos: las secuencias `a` y `b` que representan dos vectores. Y regresa un valor numérico con el resultado de multiplicar los dos vectores."
   ]
  },
  {
   "cell_type": "markdown",
   "metadata": {},
   "source": [
    "### Solución\n",
    "- Verificamos que ambos vectores sean del mismo tamaño para poder multiplicarlos\n",
    "- Como los vecotres son del mismo tamaño usamos un bucle for desde 0 hasta tam y en cada iteración usamos un acumulador para sumar la multiplicación de cada componenete"
   ]
  },
  {
   "cell_type": "code",
   "execution_count": 11,
   "metadata": {},
   "outputs": [
    {
     "data": {
      "text/plain": [
       "#'user/productoPunto"
      ]
     },
     "execution_count": 11,
     "metadata": {},
     "output_type": "execute_result"
    }
   ],
   "source": [
    "(defn productoPunto [a b]\n",
    "    (def res 0)\n",
    "    (def dimA (count a))\n",
    "    (def dimB (count b))\n",
    "    \n",
    "    (if (= dimA dimB)\n",
    "        (do\n",
    "            (for-loop [i 0 (< i dimA) (inc i)] \n",
    "                (def res (+ res (* (a i) (b i) ) ))\n",
    "            )\n",
    "            res\n",
    "        )\n",
    "        (println \"Las dimensiones de los vectores no son iguales\")\n",
    "    )\n",
    ")"
   ]
  },
  {
   "cell_type": "code",
   "execution_count": 12,
   "metadata": {},
   "outputs": [
    {
     "name": "stdout",
     "output_type": "stream",
     "text": [
      "true\n",
      "true\n",
      "true\n"
     ]
    },
    {
     "data": {
      "text/plain": [
       "nil"
      ]
     },
     "execution_count": 12,
     "metadata": {},
     "output_type": "execute_result"
    }
   ],
   "source": [
    ";;; Pruebas \n",
    "(println (is (= 0 (productoPunto [] []))))\n",
    "(println (is (= 32 (productoPunto [1 2 3] [4 5 6]))))\n",
    "(println (is (= 21.45 (productoPunto [1.3 3.4 5.7 9.5 10.4]\n",
    "                          [-4.5 3.0 1.5 0.9 0.0]))))"
   ]
  },
  {
   "cell_type": "markdown",
   "metadata": {},
   "source": [
    "---\n",
    "\n",
    "## Problema 5\n",
    "La función `simbolos?` recibe como entrada una secuencia `s`. Regresa  `true` si todos los elementos de la secuencia son simbolos o `false` si alguno de los elementos no es un símbolo. "
   ]
  },
  {
   "cell_type": "markdown",
   "metadata": {},
   "source": [
    "### solución\n",
    "- `symbol?` nos ayuda a verficar si la variable analizada es un simbolo"
   ]
  },
  {
   "cell_type": "code",
   "execution_count": 13,
   "metadata": {},
   "outputs": [
    {
     "data": {
      "text/plain": [
       "#'user/simbolos?"
      ]
     },
     "execution_count": 13,
     "metadata": {},
     "output_type": "execute_result"
    }
   ],
   "source": [
    "(defn simbolos? [s]\n",
    "    (def tam (count s))\n",
    "    (def res true)\n",
    "    \n",
    "    (for-loop [i 0 (< i tam) (inc i)] \n",
    "        (def elemento (nth s i))\n",
    "        \n",
    "        (if (not (symbol? elemento))\n",
    "            (do (def res false) (def i tam))\n",
    "        )\n",
    "    )\n",
    "    res\n",
    ")"
   ]
  },
  {
   "cell_type": "code",
   "execution_count": 14,
   "metadata": {},
   "outputs": [
    {
     "name": "stdout",
     "output_type": "stream",
     "text": [
      "true\n",
      "true\n",
      "true\n",
      "true\n",
      "true\n",
      "true\n"
     ]
    },
    {
     "data": {
      "text/plain": [
       "nil"
      ]
     },
     "execution_count": 14,
     "metadata": {},
     "output_type": "execute_result"
    }
   ],
   "source": [
    ";;; Pruebas \n",
    "(println (is (= true (simbolos? []))))\n",
    "(println(is (= true (simbolos? '(a)))))\n",
    "(println(is (= true (simbolos? '(a b c d e)))))\n",
    "(println(is (= false (simbolos? '(a b c d 42 e)))))\n",
    "(println(is (= false (simbolos? '(42 a b c)))))\n",
    "(println(is (= false (simbolos? [4 8 15 16 23 42]))))"
   ]
  },
  {
   "cell_type": "markdown",
   "metadata": {},
   "source": [
    "---\n",
    "\n",
    "## Problema 6\n",
    "\n",
    "La función `replica` recibe dos argumentos de entrada: un número entero `n` y una secuencia `s`, donde `n` ≥ 0. Y regresa una nueva lista que replica `n` veces cada uno de los elementos en `s`."
   ]
  },
  {
   "cell_type": "markdown",
   "metadata": {},
   "source": [
    "### Solución\n",
    "- Utilizaremos dos ciclos for\n",
    "    - El primero obtiene cada valor único dentro de la lista o vector de entrada\n",
    "    - El segundo añade n veces el valor obtenido por el primer ciclo\n",
    "- La funcion reverse nos regresa la lista invertida, ya que la funcion conj añade los elementos al incio de la lista"
   ]
  },
  {
   "cell_type": "code",
   "execution_count": 15,
   "metadata": {},
   "outputs": [
    {
     "data": {
      "text/plain": [
       "#'user/replica"
      ]
     },
     "execution_count": 15,
     "metadata": {},
     "output_type": "execute_result"
    }
   ],
   "source": [
    "(defn replica [n s]\n",
    "    (def res '())\n",
    "    (def tam (count s))\n",
    "    \n",
    "    (for-loop [i 0 (< i tam) (inc i)]   \n",
    "        (def elem (nth s i))\n",
    "        \n",
    "        (for-loop [j 0 (< j n) (inc j)] \n",
    "            (def res (conj res elem))\n",
    "        )\n",
    "    )\n",
    "    \n",
    "    (reverse res)\n",
    ")"
   ]
  },
  {
   "cell_type": "code",
   "execution_count": 16,
   "metadata": {},
   "outputs": [
    {
     "name": "stdout",
     "output_type": "stream",
     "text": [
      "true\n",
      "true\n",
      "true\n",
      "true\n"
     ]
    },
    {
     "data": {
      "text/plain": [
       "nil"
      ]
     },
     "execution_count": 16,
     "metadata": {},
     "output_type": "execute_result"
    }
   ],
   "source": [
    ";;; Pruebas \n",
    "(println (is (= () (replica 7 []))))\n",
    "(println (is (= () (replica 0 '(a b c)))))\n",
    "(println (is (= '(a a a) (replica 3 '(a)))))\n",
    "(println (is (= [1 1 1 1 2 2 2 2 3 3 3 3 4 4 4 4] (replica 4 [1 2 3 4]))))"
   ]
  }
 ],
 "metadata": {
  "kernelspec": {
   "display_name": "Clojure (clojupyter=0.2.3-SNAPSHOT)",
   "language": "clojure",
   "name": "conda-clojupyter"
  },
  "language_info": {
   "file_extension": ".clj",
   "mimetype": "text/x-clojure",
   "name": "clojure",
   "version": "1.10.1"
  }
 },
 "nbformat": 4,
 "nbformat_minor": 4
}
